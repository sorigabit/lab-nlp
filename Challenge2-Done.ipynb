{
 "cells": [
  {
   "cell_type": "markdown",
   "metadata": {},
   "source": [
    "# Challenge 2: Sentiment Analysis\n",
    "\n",
    "In this challenge we will learn sentiment analysis and practice performing sentiment analysis on Twitter tweets. \n",
    "\n",
    "## Introduction\n",
    "\n",
    "Sentiment analysis is to *systematically identify, extract, quantify, and study affective states and subjective information* based on texts ([reference](https://en.wikipedia.org/wiki/Sentiment_analysis)). In simple words, it's to understand whether a person is happy or unhappy in producing the piece of text. Why we (or rather, companies) care about sentiment in texts? It's because by understanding the sentiments in texts, we will be able to know if our customers are happy or unhappy about our products and services. If they are unhappy, the subsequent action is to figure out what have caused the unhappiness and make improvements.\n",
    "\n",
    "Basic sentiment analysis only understands the *positive* or *negative* (sometimes *neutral* too) polarities of the sentiment. More advanced sentiment analysis will also consider dimensions such as agreement, subjectivity, confidence, irony, and so on. In this challenge we will conduct the basic positive vs negative sentiment analysis based on real Twitter tweets.\n",
    "\n",
    "NLTK comes with a [sentiment analysis package](https://www.nltk.org/api/nltk.sentiment.html). This package is great for dummies to perform sentiment analysis because it requires only the textual data to make predictions. For example:\n",
    "\n",
    "```python\n",
    ">>> from nltk.sentiment.vader import SentimentIntensityAnalyzer\n",
    ">>> txt = \"Ironhack is a Global Tech School ranked num 2 worldwide.  ",
    " ",
    "Our mission is to help people transform their careers and join a thriving community of tech professionals that love what they do.\"\n",
    ">>> analyzer = SentimentIntensityAnalyzer()\n",
    ">>> analyzer.polarity_scores(txt)\n",
    "{'neg': 0.0, 'neu': 0.741, 'pos': 0.259, 'compound': 0.8442}\n",
    "```\n",
    "\n",
    "In this challenge, however, you will not use NLTK's sentiment analysis package because in your Machine Learning training in the past 2 weeks you have learned how to make predictions more accurate than that. The [tweets data](https://www.kaggle.com/kazanova/sentiment140) we will be using today are already coded for the positive/negative sentiment. You will be able to use the Naïve Bayes classifier you learned in the lesson to predict the sentiment of tweets based on the labels."
   ]
  },
  {
   "cell_type": "markdown",
   "metadata": {},
   "source": [
    "## Conducting Sentiment Analysis\n",
    "\n",
    "### Loading and Exploring Data\n",
    "\n",
    "The dataset we'll be using today is located on Kaggle (https://www.kaggle.com/kazanova/sentiment140). Once you have downloaded and imported the dataset, it you will need to define the columns names: df.columns = ['target','id','date','flag','user','text']\n",
    "\n",
    "*Notes:* \n",
    "\n",
    "* The dataset is huuuuge (1.6m tweets). When you develop your data analysis codes, you can sample a subset of the data (e.g. 20k records) so that you will save a lot of time when you test your codes."
   ]
  },
  {
   "cell_type": "code",
   "execution_count": 13,
   "metadata": {},
   "outputs": [],
   "source": [
    "import pandas as pd\n",
    "from nltk.stem import WordNetLemmatizer\n",
    "from nltk.stem import PorterStemmer\n",
    "import nltk\n",
    "import re\n",
    "from nltk.corpus import stopwords"
   ]
  },
  {
   "cell_type": "code",
   "execution_count": 11,
   "metadata": {},
   "outputs": [],
   "source": [
    "data_t = pd.read_csv(r'C:\\Users\\sorig\\Desktop\\Train.csv', encoding='latin-1')\n",
    "data = data_t.sample(20000)\n",
    "data.columns = ['target','id','date','flag','user','text']\n"
   ]
  },
  {
   "cell_type": "code",
   "execution_count": 12,
   "metadata": {},
   "outputs": [
    {
     "data": {
      "text/html": [
       "<div>\n",
       "<style scoped>\n",
       "    .dataframe tbody tr th:only-of-type {\n",
       "        vertical-align: middle;\n",
       "    }\n",
       "\n",
       "    .dataframe tbody tr th {\n",
       "        vertical-align: top;\n",
       "    }\n",
       "\n",
       "    .dataframe thead th {\n",
       "        text-align: right;\n",
       "    }\n",
       "</style>\n",
       "<table border=\"1\" class=\"dataframe\">\n",
       "  <thead>\n",
       "    <tr style=\"text-align: right;\">\n",
       "      <th></th>\n",
       "      <th>target</th>\n",
       "      <th>id</th>\n",
       "      <th>date</th>\n",
       "      <th>flag</th>\n",
       "      <th>user</th>\n",
       "      <th>text</th>\n",
       "    </tr>\n",
       "  </thead>\n",
       "  <tbody>\n",
       "    <tr>\n",
       "      <th>1007682</th>\n",
       "      <td>4</td>\n",
       "      <td>1880728312</td>\n",
       "      <td>Fri May 22 02:17:11 PDT 2009</td>\n",
       "      <td>NO_QUERY</td>\n",
       "      <td>juniorm2464</td>\n",
       "      <td>At Cheesecake Factory with Candace!  Savoring ...</td>\n",
       "    </tr>\n",
       "    <tr>\n",
       "      <th>235655</th>\n",
       "      <td>0</td>\n",
       "      <td>1979820827</td>\n",
       "      <td>Sun May 31 04:38:23 PDT 2009</td>\n",
       "      <td>NO_QUERY</td>\n",
       "      <td>meglizmiller</td>\n",
       "      <td>Morning Sweetheart! You're totally right about...</td>\n",
       "    </tr>\n",
       "    <tr>\n",
       "      <th>1526088</th>\n",
       "      <td>4</td>\n",
       "      <td>2176973199</td>\n",
       "      <td>Mon Jun 15 05:10:31 PDT 2009</td>\n",
       "      <td>NO_QUERY</td>\n",
       "      <td>lecraic</td>\n",
       "      <td>@grovesmedia  i'm looking at it from a sales p...</td>\n",
       "    </tr>\n",
       "    <tr>\n",
       "      <th>134923</th>\n",
       "      <td>0</td>\n",
       "      <td>1836388622</td>\n",
       "      <td>Mon May 18 07:54:34 PDT 2009</td>\n",
       "      <td>NO_QUERY</td>\n",
       "      <td>steph_davies</td>\n",
       "      <td>@patriciaco We are so depressed right now.</td>\n",
       "    </tr>\n",
       "    <tr>\n",
       "      <th>1047003</th>\n",
       "      <td>4</td>\n",
       "      <td>1957722213</td>\n",
       "      <td>Fri May 29 01:23:58 PDT 2009</td>\n",
       "      <td>NO_QUERY</td>\n",
       "      <td>g54zw00dcy4u1ls</td>\n",
       "      <td>@KellyNg well...in about 1 1/2 months' time</td>\n",
       "    </tr>\n",
       "    <tr>\n",
       "      <th>...</th>\n",
       "      <td>...</td>\n",
       "      <td>...</td>\n",
       "      <td>...</td>\n",
       "      <td>...</td>\n",
       "      <td>...</td>\n",
       "      <td>...</td>\n",
       "    </tr>\n",
       "    <tr>\n",
       "      <th>1122076</th>\n",
       "      <td>4</td>\n",
       "      <td>1974268813</td>\n",
       "      <td>Sat May 30 12:46:57 PDT 2009</td>\n",
       "      <td>NO_QUERY</td>\n",
       "      <td>Sharonyy</td>\n",
       "      <td>@sunnyemlie yeah, think so  .. did u saw the s...</td>\n",
       "    </tr>\n",
       "    <tr>\n",
       "      <th>881407</th>\n",
       "      <td>4</td>\n",
       "      <td>1685807926</td>\n",
       "      <td>Sun May 03 02:11:10 PDT 2009</td>\n",
       "      <td>NO_QUERY</td>\n",
       "      <td>dominiccampbell</td>\n",
       "      <td>@Lili1 my pleasure it's lovely stuff</td>\n",
       "    </tr>\n",
       "    <tr>\n",
       "      <th>126136</th>\n",
       "      <td>0</td>\n",
       "      <td>1834457136</td>\n",
       "      <td>Mon May 18 03:00:34 PDT 2009</td>\n",
       "      <td>NO_QUERY</td>\n",
       "      <td>kevinscottt</td>\n",
       "      <td>Still up.</td>\n",
       "    </tr>\n",
       "    <tr>\n",
       "      <th>306319</th>\n",
       "      <td>0</td>\n",
       "      <td>2000199458</td>\n",
       "      <td>Mon Jun 01 21:36:39 PDT 2009</td>\n",
       "      <td>NO_QUERY</td>\n",
       "      <td>Ryoren</td>\n",
       "      <td>@dantemaster214 well i just have 2 think posit...</td>\n",
       "    </tr>\n",
       "    <tr>\n",
       "      <th>1332613</th>\n",
       "      <td>4</td>\n",
       "      <td>2016229514</td>\n",
       "      <td>Wed Jun 03 06:24:35 PDT 2009</td>\n",
       "      <td>NO_QUERY</td>\n",
       "      <td>flor2009</td>\n",
       "      <td>Hi,Tweetpeople! Happy wednesday. Have a great ...</td>\n",
       "    </tr>\n",
       "  </tbody>\n",
       "</table>\n",
       "<p>20000 rows × 6 columns</p>\n",
       "</div>"
      ],
      "text/plain": [
       "         target          id                          date      flag  \\\n",
       "1007682       4  1880728312  Fri May 22 02:17:11 PDT 2009  NO_QUERY   \n",
       "235655        0  1979820827  Sun May 31 04:38:23 PDT 2009  NO_QUERY   \n",
       "1526088       4  2176973199  Mon Jun 15 05:10:31 PDT 2009  NO_QUERY   \n",
       "134923        0  1836388622  Mon May 18 07:54:34 PDT 2009  NO_QUERY   \n",
       "1047003       4  1957722213  Fri May 29 01:23:58 PDT 2009  NO_QUERY   \n",
       "...         ...         ...                           ...       ...   \n",
       "1122076       4  1974268813  Sat May 30 12:46:57 PDT 2009  NO_QUERY   \n",
       "881407        4  1685807926  Sun May 03 02:11:10 PDT 2009  NO_QUERY   \n",
       "126136        0  1834457136  Mon May 18 03:00:34 PDT 2009  NO_QUERY   \n",
       "306319        0  2000199458  Mon Jun 01 21:36:39 PDT 2009  NO_QUERY   \n",
       "1332613       4  2016229514  Wed Jun 03 06:24:35 PDT 2009  NO_QUERY   \n",
       "\n",
       "                    user                                               text  \n",
       "1007682      juniorm2464  At Cheesecake Factory with Candace!  Savoring ...  \n",
       "235655      meglizmiller  Morning Sweetheart! You're totally right about...  \n",
       "1526088          lecraic  @grovesmedia  i'm looking at it from a sales p...  \n",
       "134923      steph_davies        @patriciaco We are so depressed right now.   \n",
       "1047003  g54zw00dcy4u1ls       @KellyNg well...in about 1 1/2 months' time   \n",
       "...                  ...                                                ...  \n",
       "1122076         Sharonyy  @sunnyemlie yeah, think so  .. did u saw the s...  \n",
       "881407   dominiccampbell              @Lili1 my pleasure it's lovely stuff   \n",
       "126136       kevinscottt                                         Still up.   \n",
       "306319            Ryoren  @dantemaster214 well i just have 2 think posit...  \n",
       "1332613         flor2009  Hi,Tweetpeople! Happy wednesday. Have a great ...  \n",
       "\n",
       "[20000 rows x 6 columns]"
      ]
     },
     "execution_count": 12,
     "metadata": {},
     "output_type": "execute_result"
    }
   ],
   "source": [
    "data"
   ]
  },
  {
   "cell_type": "markdown",
   "metadata": {},
   "source": [
    "### Prepare Textual Data for Sentiment Analysis\n",
    "\n",
    "Now, apply the functions you have written in Challenge 1 to your whole data set. These functions include:\n",
    "\n",
    "* `clean_up()`\n",
    "\n",
    "* `tokenize()`\n",
    "\n",
    "* `stem_and_lemmatize()`\n",
    "\n",
    "* `remove_stopwords()`\n",
    "\n",
    "Create a new column called `text_processed` in the dataframe to contain the processed data. At the end, your `text_processed` column should contain lists of word tokens that are cleaned up. Your data should look like below:\n",
    "\n",
    "![Processed Data](data-cleaning-results.png)"
   ]
  },
  {
   "cell_type": "code",
   "execution_count": 17,
   "metadata": {},
   "outputs": [],
   "source": [
    "# functions:\n",
    "def clean_up(s):\n",
    "    string = re.sub(r'http\\S+', '', s)\n",
    "    return re.sub(r'[^A-Za-z\\s]', ' ', string).lower().strip()\n",
    "def tokenize(s):\n",
    "    return nltk.word_tokenize(s)\n",
    "def stem_and_lemmatize(l):\n",
    "    ps = PorterStemmer()\n",
    "    porter = nltk.PorterStemmer()\n",
    "    lemmatizer = WordNetLemmatizer()\n",
    "    l_ = []\n",
    "    for word in l:\n",
    "        s = ps.stem(word)\n",
    "        s = lemmatizer.lemmatize(s)\n",
    "        l_ += [s]\n",
    "    return l_\n",
    "def remove_stopwords(l):\n",
    "    stop_words = stopwords.words('english')\n",
    "    return [w for w in l if w not in stop_words]"
   ]
  },
  {
   "cell_type": "code",
   "execution_count": 18,
   "metadata": {},
   "outputs": [],
   "source": [
    "data['text_processed'] = data['text'].apply(clean_up).apply(tokenize).apply(stem_and_lemmatize).apply(remove_stopwords)"
   ]
  },
  {
   "cell_type": "code",
   "execution_count": 19,
   "metadata": {},
   "outputs": [
    {
     "data": {
      "text/html": [
       "<div>\n",
       "<style scoped>\n",
       "    .dataframe tbody tr th:only-of-type {\n",
       "        vertical-align: middle;\n",
       "    }\n",
       "\n",
       "    .dataframe tbody tr th {\n",
       "        vertical-align: top;\n",
       "    }\n",
       "\n",
       "    .dataframe thead th {\n",
       "        text-align: right;\n",
       "    }\n",
       "</style>\n",
       "<table border=\"1\" class=\"dataframe\">\n",
       "  <thead>\n",
       "    <tr style=\"text-align: right;\">\n",
       "      <th></th>\n",
       "      <th>target</th>\n",
       "      <th>id</th>\n",
       "      <th>date</th>\n",
       "      <th>flag</th>\n",
       "      <th>user</th>\n",
       "      <th>text</th>\n",
       "      <th>text_processed</th>\n",
       "    </tr>\n",
       "  </thead>\n",
       "  <tbody>\n",
       "    <tr>\n",
       "      <th>1007682</th>\n",
       "      <td>4</td>\n",
       "      <td>1880728312</td>\n",
       "      <td>Fri May 22 02:17:11 PDT 2009</td>\n",
       "      <td>NO_QUERY</td>\n",
       "      <td>juniorm2464</td>\n",
       "      <td>At Cheesecake Factory with Candace!  Savoring ...</td>\n",
       "      <td>[cheesecak, factori, candac, savor, everi, mom...</td>\n",
       "    </tr>\n",
       "    <tr>\n",
       "      <th>235655</th>\n",
       "      <td>0</td>\n",
       "      <td>1979820827</td>\n",
       "      <td>Sun May 31 04:38:23 PDT 2009</td>\n",
       "      <td>NO_QUERY</td>\n",
       "      <td>meglizmiller</td>\n",
       "      <td>Morning Sweetheart! You're totally right about...</td>\n",
       "      <td>[morn, sweetheart, total, right, wa, nightmar,...</td>\n",
       "    </tr>\n",
       "    <tr>\n",
       "      <th>1526088</th>\n",
       "      <td>4</td>\n",
       "      <td>2176973199</td>\n",
       "      <td>Mon Jun 15 05:10:31 PDT 2009</td>\n",
       "      <td>NO_QUERY</td>\n",
       "      <td>lecraic</td>\n",
       "      <td>@grovesmedia  i'm looking at it from a sales p...</td>\n",
       "      <td>[grovesmedia, look, sale, point, view, investi...</td>\n",
       "    </tr>\n",
       "    <tr>\n",
       "      <th>134923</th>\n",
       "      <td>0</td>\n",
       "      <td>1836388622</td>\n",
       "      <td>Mon May 18 07:54:34 PDT 2009</td>\n",
       "      <td>NO_QUERY</td>\n",
       "      <td>steph_davies</td>\n",
       "      <td>@patriciaco We are so depressed right now.</td>\n",
       "      <td>[patriciaco, depress, right]</td>\n",
       "    </tr>\n",
       "    <tr>\n",
       "      <th>1047003</th>\n",
       "      <td>4</td>\n",
       "      <td>1957722213</td>\n",
       "      <td>Fri May 29 01:23:58 PDT 2009</td>\n",
       "      <td>NO_QUERY</td>\n",
       "      <td>g54zw00dcy4u1ls</td>\n",
       "      <td>@KellyNg well...in about 1 1/2 months' time</td>\n",
       "      <td>[kellyng, well, month, time]</td>\n",
       "    </tr>\n",
       "    <tr>\n",
       "      <th>...</th>\n",
       "      <td>...</td>\n",
       "      <td>...</td>\n",
       "      <td>...</td>\n",
       "      <td>...</td>\n",
       "      <td>...</td>\n",
       "      <td>...</td>\n",
       "      <td>...</td>\n",
       "    </tr>\n",
       "    <tr>\n",
       "      <th>1122076</th>\n",
       "      <td>4</td>\n",
       "      <td>1974268813</td>\n",
       "      <td>Sat May 30 12:46:57 PDT 2009</td>\n",
       "      <td>NO_QUERY</td>\n",
       "      <td>Sharonyy</td>\n",
       "      <td>@sunnyemlie yeah, think so  .. did u saw the s...</td>\n",
       "      <td>[sunnyemli, yeah, think, u, saw, sneak, peak, ...</td>\n",
       "    </tr>\n",
       "    <tr>\n",
       "      <th>881407</th>\n",
       "      <td>4</td>\n",
       "      <td>1685807926</td>\n",
       "      <td>Sun May 03 02:11:10 PDT 2009</td>\n",
       "      <td>NO_QUERY</td>\n",
       "      <td>dominiccampbell</td>\n",
       "      <td>@Lili1 my pleasure it's lovely stuff</td>\n",
       "      <td>[lili, pleasur, love, stuff]</td>\n",
       "    </tr>\n",
       "    <tr>\n",
       "      <th>126136</th>\n",
       "      <td>0</td>\n",
       "      <td>1834457136</td>\n",
       "      <td>Mon May 18 03:00:34 PDT 2009</td>\n",
       "      <td>NO_QUERY</td>\n",
       "      <td>kevinscottt</td>\n",
       "      <td>Still up.</td>\n",
       "      <td>[still]</td>\n",
       "    </tr>\n",
       "    <tr>\n",
       "      <th>306319</th>\n",
       "      <td>0</td>\n",
       "      <td>2000199458</td>\n",
       "      <td>Mon Jun 01 21:36:39 PDT 2009</td>\n",
       "      <td>NO_QUERY</td>\n",
       "      <td>Ryoren</td>\n",
       "      <td>@dantemaster214 well i just have 2 think posit...</td>\n",
       "      <td>[dantemast, well, think, posit, idk, someon]</td>\n",
       "    </tr>\n",
       "    <tr>\n",
       "      <th>1332613</th>\n",
       "      <td>4</td>\n",
       "      <td>2016229514</td>\n",
       "      <td>Wed Jun 03 06:24:35 PDT 2009</td>\n",
       "      <td>NO_QUERY</td>\n",
       "      <td>flor2009</td>\n",
       "      <td>Hi,Tweetpeople! Happy wednesday. Have a great ...</td>\n",
       "      <td>[hi, tweetpeopl, happi, wednesday, great, day]</td>\n",
       "    </tr>\n",
       "  </tbody>\n",
       "</table>\n",
       "<p>20000 rows × 7 columns</p>\n",
       "</div>"
      ],
      "text/plain": [
       "         target          id                          date      flag  \\\n",
       "1007682       4  1880728312  Fri May 22 02:17:11 PDT 2009  NO_QUERY   \n",
       "235655        0  1979820827  Sun May 31 04:38:23 PDT 2009  NO_QUERY   \n",
       "1526088       4  2176973199  Mon Jun 15 05:10:31 PDT 2009  NO_QUERY   \n",
       "134923        0  1836388622  Mon May 18 07:54:34 PDT 2009  NO_QUERY   \n",
       "1047003       4  1957722213  Fri May 29 01:23:58 PDT 2009  NO_QUERY   \n",
       "...         ...         ...                           ...       ...   \n",
       "1122076       4  1974268813  Sat May 30 12:46:57 PDT 2009  NO_QUERY   \n",
       "881407        4  1685807926  Sun May 03 02:11:10 PDT 2009  NO_QUERY   \n",
       "126136        0  1834457136  Mon May 18 03:00:34 PDT 2009  NO_QUERY   \n",
       "306319        0  2000199458  Mon Jun 01 21:36:39 PDT 2009  NO_QUERY   \n",
       "1332613       4  2016229514  Wed Jun 03 06:24:35 PDT 2009  NO_QUERY   \n",
       "\n",
       "                    user                                               text  \\\n",
       "1007682      juniorm2464  At Cheesecake Factory with Candace!  Savoring ...   \n",
       "235655      meglizmiller  Morning Sweetheart! You're totally right about...   \n",
       "1526088          lecraic  @grovesmedia  i'm looking at it from a sales p...   \n",
       "134923      steph_davies        @patriciaco We are so depressed right now.    \n",
       "1047003  g54zw00dcy4u1ls       @KellyNg well...in about 1 1/2 months' time    \n",
       "...                  ...                                                ...   \n",
       "1122076         Sharonyy  @sunnyemlie yeah, think so  .. did u saw the s...   \n",
       "881407   dominiccampbell              @Lili1 my pleasure it's lovely stuff    \n",
       "126136       kevinscottt                                         Still up.    \n",
       "306319            Ryoren  @dantemaster214 well i just have 2 think posit...   \n",
       "1332613         flor2009  Hi,Tweetpeople! Happy wednesday. Have a great ...   \n",
       "\n",
       "                                            text_processed  \n",
       "1007682  [cheesecak, factori, candac, savor, everi, mom...  \n",
       "235655   [morn, sweetheart, total, right, wa, nightmar,...  \n",
       "1526088  [grovesmedia, look, sale, point, view, investi...  \n",
       "134923                        [patriciaco, depress, right]  \n",
       "1047003                       [kellyng, well, month, time]  \n",
       "...                                                    ...  \n",
       "1122076  [sunnyemli, yeah, think, u, saw, sneak, peak, ...  \n",
       "881407                        [lili, pleasur, love, stuff]  \n",
       "126136                                             [still]  \n",
       "306319        [dantemast, well, think, posit, idk, someon]  \n",
       "1332613     [hi, tweetpeopl, happi, wednesday, great, day]  \n",
       "\n",
       "[20000 rows x 7 columns]"
      ]
     },
     "execution_count": 19,
     "metadata": {},
     "output_type": "execute_result"
    }
   ],
   "source": [
    "data"
   ]
  },
  {
   "cell_type": "markdown",
   "metadata": {},
   "source": [
    "### Creating Bag of Words\n",
    "\n",
    "The purpose of this step is to create a [bag of words](https://en.wikipedia.org/wiki/Bag-of-words_model) from the processed data. The bag of words contains all the unique words in your whole text body (a.k.a. *corpus*) with the number of occurrence of each word. It will allow you to understand which words are the most important features across the whole corpus.\n",
    "\n",
    "Also, you can imagine you will have a massive set of words. The less important words (i.e. those of very low number of occurrence) do not contribute much to the sentiment. Therefore, you only need to use the most important words to build your feature set in the next step. In our case, we will use the top 5,000 words with the highest frequency to build the features.\n",
    "\n",
    "In the cell below, combine all the words in `text_processed` and calculate the frequency distribution of all words. A convenient library to calculate the term frequency distribution is NLTK's `FreqDist` class ([documentation](https://www.nltk.org/api/nltk.html#module-nltk.probability)). Then select the top 5,000 words from the frequency distribution."
   ]
  },
  {
   "cell_type": "code",
   "execution_count": 20,
   "metadata": {},
   "outputs": [],
   "source": [
    "from nltk.probability import FreqDist"
   ]
  },
  {
   "cell_type": "code",
   "execution_count": 22,
   "metadata": {},
   "outputs": [],
   "source": [
    "freqd = nltk.FreqDist()\n",
    "for text in data['text_processed']:\n",
    "    for word in text:\n",
    "        freqd[word] += 1\n",
    "\n",
    "top_words = list(freqd.keys())[:5000]\n",
    "# top_words"
   ]
  },
  {
   "cell_type": "markdown",
   "metadata": {},
   "source": [
    "### Building Features\n",
    "\n",
    "Now let's build the features. Using the top 5,000 words, create a 2-dimensional matrix to record whether each of those words is contained in each document (tweet). Then you also have an output column to indicate whether the sentiment in each tweet is positive. For example, assuming your bag of words has 5 items (`['one', 'two', 'three', 'four', 'five']`) out of 4 documents (`['A', 'B', 'C', 'D']`), your feature set is essentially:\n",
    "\n",
    "| Doc | one | two | three | four | five | is_positive |\n",
    "|---|---|---|---|---|---|---|\n",
    "| A | True | False | False | True | False | True |\n",
    "| B | False | False | False | True | True | False |\n",
    "| C | False | True | False | False | False | True |\n",
    "| D | True | False | False | False | True | False|\n",
    "\n",
    "However, because the `nltk.NaiveBayesClassifier.train` class we will use in the next step does not work with Pandas dataframe, the structure of your feature set should be converted to the Python list looking like below:\n",
    "\n",
    "```python\n",
    "[\n",
    "\t({\n",
    "\t\t'one': True,\n",
    "\t\t'two': False,\n",
    "\t\t'three': False,\n",
    "\t\t'four': True,\n",
    "\t\t'five': False\n",
    "\t}, True),\n",
    "\t({\n",
    "\t\t'one': False,\n",
    "\t\t'two': False,\n",
    "\t\t'three': False,\n",
    "\t\t'four': True,\n",
    "\t\t'five': True\n",
    "\t}, False),\n",
    "\t({\n",
    "\t\t'one': False,\n",
    "\t\t'two': True,\n",
    "\t\t'three': False,\n",
    "\t\t'four': False,\n",
    "\t\t'five': False\n",
    "\t}, True),\n",
    "\t({\n",
    "\t\t'one': True,\n",
    "\t\t'two': False,\n",
    "\t\t'three': False,\n",
    "\t\t'four': False,\n",
    "\t\t'five': True\n",
    "\t}, False)\n",
    "]\n",
    "```\n",
    "\n",
    "To help you in this step, watch the [following video](https://www.youtube.com/watch?v=-vVskDsHcVc) to learn how to build the feature set with Python and NLTK. The source code in this video can be found [here](https://pythonprogramming.net/words-as-features-nltk-tutorial/)."
   ]
  },
  {
   "cell_type": "markdown",
   "metadata": {},
   "source": [
    "[![Building Features](building-features.jpg)](https://www.youtube.com/watch?v=-vVskDsHcVc)"
   ]
  },
  {
   "cell_type": "code",
   "execution_count": 30,
   "metadata": {},
   "outputs": [],
   "source": [
    "def find_features(document):\n",
    "    words = set(document)\n",
    "    features = {}\n",
    "    for w in top_words:\n",
    "        features[w] = (w in words)\n",
    "    \n",
    "    return features\n",
    "        \n",
    "featuresets = [(find_features(text), target) for (text, target) in list(zip(data['text_processed'], data['target']))]"
   ]
  },
  {
   "cell_type": "code",
   "execution_count": 31,
   "metadata": {},
   "outputs": [
    {
     "name": "stdout",
     "output_type": "stream",
     "text": [
      "20000\n"
     ]
    }
   ],
   "source": [
    "print(len(featuresets))\n",
    "# print(featuresets[1])"
   ]
  },
  {
   "cell_type": "markdown",
   "metadata": {},
   "source": [
    "### Building and Traininng Naive Bayes Model\n",
    "\n",
    "In this step you will split your feature set into a training and a test set. Then you will create a Bayes classifier instance using `nltk.NaiveBayesClassifier.train` ([example](https://www.nltk.org/book/ch06.html)) to train with the training dataset.\n",
    "\n",
    "After training the model, call `classifier.show_most_informative_features()` to inspect the most important features. The output will look like:\n",
    "\n",
    "```\n",
    "Most Informative Features\n",
    "\t    snow = True            False : True   =     34.3 : 1.0\n",
    "\t  easter = True            False : True   =     26.2 : 1.0\n",
    "\t headach = True            False : True   =     20.9 : 1.0\n",
    "\t    argh = True            False : True   =     17.6 : 1.0\n",
    "\tunfortun = True            False : True   =     16.9 : 1.0\n",
    "\t    jona = True             True : False  =     16.2 : 1.0\n",
    "\t     ach = True            False : True   =     14.9 : 1.0\n",
    "\t     sad = True            False : True   =     13.0 : 1.0\n",
    "\t  parent = True            False : True   =     12.9 : 1.0\n",
    "\t  spring = True            False : True   =     12.7 : 1.0\n",
    "```\n",
    "\n",
    "The [following video](https://www.youtube.com/watch?v=rISOsUaTrO4) will help you complete this step. The source code in this video can be found [here](https://pythonprogramming.net/naive-bayes-classifier-nltk-tutorial/)."
   ]
  },
  {
   "cell_type": "markdown",
   "metadata": {},
   "source": [
    "[![Building and Training NB](nb-model-building.jpg)](https://www.youtube.com/watch?v=rISOsUaTrO4)"
   ]
  },
  {
   "cell_type": "code",
   "execution_count": 33,
   "metadata": {},
   "outputs": [],
   "source": [
    "train_set= featuresets[:15000]\n",
    "test_set=featuresets[15000:]"
   ]
  },
  {
   "cell_type": "code",
   "execution_count": 34,
   "metadata": {},
   "outputs": [],
   "source": [
    "classifier = nltk.NaiveBayesClassifier.train(train_set)"
   ]
  },
  {
   "cell_type": "markdown",
   "metadata": {},
   "source": [
    "### Testing Naive Bayes Model\n",
    "\n",
    "Now we'll test our classifier with the test dataset. This is done by calling `nltk.classify.accuracy(classifier, test)`.\n",
    "\n",
    "As mentioned in one of the tutorial videos, a Naive Bayes model is considered OK if your accuracy score is over 0.6. If your accuracy score is over 0.7, you've done a great job!"
   ]
  },
  {
   "cell_type": "code",
   "execution_count": 35,
   "metadata": {},
   "outputs": [
    {
     "name": "stdout",
     "output_type": "stream",
     "text": [
      "0.7396\n"
     ]
    }
   ],
   "source": [
    "print(nltk.classify.accuracy(classifier, test_set))"
   ]
  },
  {
   "cell_type": "code",
   "execution_count": null,
   "metadata": {},
   "outputs": [],
   "source": [
    "# great job, Sorin!"
   ]
  },
  {
   "cell_type": "markdown",
   "metadata": {},
   "source": [
    "## Bonus Question 1: Improve Model Performance\n",
    "\n",
    "If you are still not exhausted so far and want to dig deeper, try to improve your classifier performance. There are many aspects you can dig into, for example:\n",
    "\n",
    "* Improve stemming and lemmatization. Inspect your bag of words and the most important features. Are there any words you should furuther remove from analysis? You can append these words to further remove to the stop words list.\n",
    "\n",
    "* Remember we only used the top 5,000 features to build model? Try using different numbers of top features. The bottom line is to use as few features as you can without compromising your model performance. The fewer features you select into your model, the faster your model is trained. Then you can use a larger sample size to improve your model accuracy score."
   ]
  },
  {
   "cell_type": "code",
   "execution_count": null,
   "metadata": {},
   "outputs": [],
   "source": [
    "# your code here"
   ]
  },
  {
   "cell_type": "markdown",
   "metadata": {},
   "source": [
    "## Bonus Question 2: Machine Learning Pipeline\n",
    "\n",
    "In a new Jupyter Notebook, combine all your codes into a function (or a class). Your new function will execute the complete machine learning pipeline job by receiving the dataset location and output the classifier. This will allow you to use your function to predict the sentiment of any tweet in real time. "
   ]
  },
  {
   "cell_type": "code",
   "execution_count": null,
   "metadata": {},
   "outputs": [],
   "source": [
    "# your code here"
   ]
  },
  {
   "cell_type": "markdown",
   "metadata": {},
   "source": [
    "## Bonus Question 3: Apache Spark\n",
    "\n",
    "If you have completed the Apache Spark advanced topic lab, what you can do is to migrate your pipeline from local to a Databricks Notebook. Share your notebook with your instructor and classmates to show off your achievements!"
   ]
  },
  {
   "cell_type": "code",
   "execution_count": null,
   "metadata": {},
   "outputs": [],
   "source": [
    "# your code here"
   ]
  }
 ],
 "metadata": {
  "kernelspec": {
   "display_name": "Python 3 (ipykernel)",
   "language": "python",
   "name": "python3"
  },
  "language_info": {
   "codemirror_mode": {
    "name": "ipython",
    "version": 3
   },
   "file_extension": ".py",
   "mimetype": "text/x-python",
   "name": "python",
   "nbconvert_exporter": "python",
   "pygments_lexer": "ipython3",
   "version": "3.11.4"
  }
 },
 "nbformat": 4,
 "nbformat_minor": 2
}
